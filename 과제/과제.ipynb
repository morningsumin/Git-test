{
 "cells": [
  {
   "cell_type": "code",
   "execution_count": null,
   "id": "ec21efc5",
   "metadata": {},
   "outputs": [],
   "source": [
    "import random\n",
    "book_name = ['역사탐험대','파이썬','학습법','영단어','여행에세이','삼국지']\n",
    "book_price = []"
   ]
  },
  {
   "cell_type": "markdown",
   "id": "7757b586",
   "metadata": {},
   "source": [
    "# 1)"
   ]
  },
  {
   "cell_type": "code",
   "execution_count": 1,
   "id": "4b4a2e30",
   "metadata": {},
   "outputs": [
    {
     "name": "stdout",
     "output_type": "stream",
     "text": [
      "['역사탐험대', '파이썬', '학습법', '영단어', '여행에세이', '삼국지']\n",
      "[19353, 23730, 16089, 17881, 24332, 19038]\n"
     ]
    }
   ],
   "source": [
    "import random\n",
    "book_name = ['역사탐험대','파이썬','학습법','영단어','여행에세이','삼국지']\n",
    "book_price = []\n",
    "for i in book_name:\n",
    "    book_price.append(random.randint(15000,25000))\n",
    "    \n",
    "print(book_name)\n",
    "print(book_price)"
   ]
  },
  {
   "cell_type": "markdown",
   "id": "97c1d0e2",
   "metadata": {},
   "source": [
    "# 2)"
   ]
  },
  {
   "cell_type": "code",
   "execution_count": 11,
   "id": "0e5bdff6",
   "metadata": {},
   "outputs": [
    {
     "name": "stdout",
     "output_type": "stream",
     "text": [
      "['역사탐험대', '파이썬', '학습법', '영단어', '여행에세이', '삼국지']\n",
      "[23667, 20865, 19950, 18190, 21082, 17346]\n",
      "가장 비싼 가격의 도서는? : 역사탐험대\n"
     ]
    }
   ],
   "source": [
    "import random\n",
    "book_name = ['역사탐험대','파이썬','학습법','영단어','여행에세이','삼국지']\n",
    "book_price = []\n",
    "for i in book_name:\n",
    "    book_price.append(random.randint(15000,25000))\n",
    "    \n",
    "print(book_name)\n",
    "print(book_price)\n",
    "    \n",
    "print('가장 비싼 가격의 도서는? :',book_name[book_price.index(max(book_price))])"
   ]
  },
  {
   "cell_type": "code",
   "execution_count": null,
   "id": "7c89376d",
   "metadata": {},
   "outputs": [],
   "source": []
  },
  {
   "cell_type": "code",
   "execution_count": null,
   "id": "07989411",
   "metadata": {},
   "outputs": [],
   "source": [
    "ranking = [[1, '라이언', 956412, 564553],\n",
    "          [2, '니니즈', 861832, 927175],\n",
    "          [3, '어피치', 796354, 593175],\n",
    "          [4, '프로도', 534840, 864326],\n",
    "          [5, '네오', 387896, 648367]]"
   ]
  },
  {
   "cell_type": "markdown",
   "id": "12095bce",
   "metadata": {},
   "source": [
    "# 1."
   ]
  },
  {
   "cell_type": "code",
   "execution_count": 11,
   "id": "757fd331",
   "metadata": {},
   "outputs": [
    {
     "name": "stdout",
     "output_type": "stream",
     "text": [
      "[1, '라이언']\n",
      "[2, '니니즈']\n",
      "[3, '어피치']\n",
      "[4, '프로도']\n",
      "[5, '네오']\n"
     ]
    }
   ],
   "source": [
    "ranking = [[1, '라이언', 956412, 564553],\n",
    "          [2, '니니즈', 861832, 927175],\n",
    "          [3, '어피치', 796354, 593175],\n",
    "          [4, '프로도', 534840, 864326],\n",
    "          [5, '네오', 387896, 648367]]\n",
    "\n",
    "for row in ranking:\n",
    "    print(row[:2])"
   ]
  },
  {
   "cell_type": "markdown",
   "id": "ebc76721",
   "metadata": {},
   "source": [
    "# 2."
   ]
  },
  {
   "cell_type": "code",
   "execution_count": 5,
   "id": "2076f418",
   "metadata": {},
   "outputs": [
    {
     "name": "stdout",
     "output_type": "stream",
     "text": [
      "이번주 득표수가 50만표가 넘는 \"참가자의 이름 - 이번주 득표수\"는?\n",
      "라이언 - 956412\n",
      "니니즈 - 861832\n",
      "어피치 - 796354\n",
      "프로도 - 534840\n"
     ]
    }
   ],
   "source": [
    "ranking = [[1, '라이언', 956412, 564553],\n",
    "          [2, '니니즈', 861832, 927175],\n",
    "          [3, '어피치', 796354, 593175],\n",
    "          [4, '프로도', 534840, 864326],\n",
    "          [5, '네오', 387896, 648367]]\n",
    "\n",
    "print('이번주 득표수가 50만표가 넘는 \"참가자의 이름 - 이번주 득표수\"는?')\n",
    "for row in ranking:\n",
    "    if row[2]>500000:\n",
    "        print(row[1],'-',row[2])"
   ]
  },
  {
   "cell_type": "markdown",
   "id": "c179ebc9",
   "metadata": {},
   "source": [
    "# 3."
   ]
  },
  {
   "cell_type": "code",
   "execution_count": 12,
   "id": "57e84643",
   "metadata": {},
   "outputs": [
    {
     "name": "stdout",
     "output_type": "stream",
     "text": [
      "지난주보다 득표수가 떨어진 \"참가자의 이름 - 하락한 표\"는?\n",
      "니니즈 - 65343\n",
      "프로도 - 329486\n",
      "네오 - 260471\n"
     ]
    }
   ],
   "source": [
    "ranking = [[1, '라이언', 956412, 564553],\n",
    "          [2, '니니즈', 861832, 927175],\n",
    "          [3, '어피치', 796354, 593175],\n",
    "          [4, '프로도', 534840, 864326],\n",
    "          [5, '네오', 387896, 648367]]\n",
    "\n",
    "print('지난주보다 득표수가 떨어진 \"참가자의 이름 - 하락한 표\"는?')\n",
    "for row in ranking:\n",
    "    if row[3]>row[2]:\n",
    "        print(row[1],'-',row[3]-row[2])"
   ]
  },
  {
   "cell_type": "markdown",
   "id": "3f980b17",
   "metadata": {},
   "source": [
    "# 4."
   ]
  },
  {
   "cell_type": "code",
   "execution_count": 10,
   "id": "e226c116",
   "metadata": {},
   "outputs": [
    {
     "name": "stdout",
     "output_type": "stream",
     "text": [
      "지난주와 이번주 득표수 중 한 번이라도 80만표를 넘은 참가자는??\n",
      "축하합니다! 라이언\n",
      "축하합니다! 니니즈\n",
      "축하합니다! 프로도\n"
     ]
    }
   ],
   "source": [
    "ranking = [[1, '라이언', 956412, 564553],\n",
    "          [2, '니니즈', 861832, 927175],\n",
    "          [3, '어피치', 796354, 593175],\n",
    "          [4, '프로도', 534840, 864326],\n",
    "          [5, '네오', 387896, 648367]]\n",
    "\n",
    "print('지난주와 이번주 득표수 중 한 번이라도 80만표를 넘은 참가자는??')\n",
    "for row in ranking:\n",
    "    if row[2] > 800000 or row[3] > 800000:\n",
    "        print('축하합니다!', row[1])"
   ]
  },
  {
   "cell_type": "code",
   "execution_count": null,
   "id": "f7cbcef9",
   "metadata": {},
   "outputs": [],
   "source": []
  }
 ],
 "metadata": {
  "kernelspec": {
   "display_name": "Python 3 (ipykernel)",
   "language": "python",
   "name": "python3"
  },
  "language_info": {
   "codemirror_mode": {
    "name": "ipython",
    "version": 3
   },
   "file_extension": ".py",
   "mimetype": "text/x-python",
   "name": "python",
   "nbconvert_exporter": "python",
   "pygments_lexer": "ipython3",
   "version": "3.9.5"
  }
 },
 "nbformat": 4,
 "nbformat_minor": 5
}
