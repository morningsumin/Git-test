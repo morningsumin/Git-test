{
 "cells": [
  {
   "cell_type": "code",
   "execution_count": 6,
   "id": "2f267009",
   "metadata": {},
   "outputs": [
    {
     "ename": "SyntaxError",
     "evalue": "invalid syntax (387416064.py, line 3)",
     "output_type": "error",
     "traceback": [
      "\u001b[1;36m  Input \u001b[1;32mIn [6]\u001b[1;36m\u001b[0m\n\u001b[1;33m    if k=input('좋아하는 영상카테고리는? :') in history:  # error 부분 k=input을 바로 삽입할때 문제발생?\u001b[0m\n\u001b[1;37m        ^\u001b[0m\n\u001b[1;31mSyntaxError\u001b[0m\u001b[1;31m:\u001b[0m invalid syntax\n"
     ]
    }
   ],
   "source": [
    "history = ['먹방','강아지','요리','댄스']\n",
    "like = []\n",
    "if k=input('좋아하는 영상카테고리는? :') in history:  # error 부분 : k=input을 바로 삽입할때 문제발생?\n",
    "    if k=='강아지':\n",
    "        print('강아지 영상을 좋아하시면 고양이 영상도 추천합니다!')\n",
    "    elif k=='먹방':\n",
    "        print('먹방 영상을 좋아하시면 요리 영상도 추천합니다!')\n",
    "    elif k=='요리':\n",
    "        print('요리 영상을 좋아하시면 먹방 영상도 추천합니다!')\n",
    "    else:\n",
    "        print('댄스 영상을 좋아하시면 음악 영상도 추천합니다!')\n",
    "else:\n",
    "    print('입력하신 카테고리를 리스트목록에 추가하겠습니다.')\n",
    "    like.append(k)\n",
    "    print('지금까지의 리스트목록은 %s입니다' %(like))"
   ]
  },
  {
   "cell_type": "markdown",
   "id": "029f2f2b",
   "metadata": {},
   "source": [
    "### 변수와 input을 함께 지정함으로써 '=' 에 대한 프로그램 인식의 오류발생이 원인인가?\n"
   ]
  },
  {
   "cell_type": "code",
   "execution_count": 3,
   "id": "17a587ef",
   "metadata": {},
   "outputs": [
    {
     "name": "stdout",
     "output_type": "stream",
     "text": [
      "좋아하는 영상카테고리는? :케이크\n",
      "입력하신 카테고리를 리스트목록에 추가하겠습니다.\n",
      "지금까지의 리스트목록은 ['케이크']입니다\n"
     ]
    }
   ],
   "source": [
    "history = ['먹방','강아지','요리','댄스']\n",
    "like = []\n",
    "k=input('좋아하는 영상카테고리는? :')\n",
    "if k in history:\n",
    "    if k=='강아지':\n",
    "        print('강아지 영상을 좋아하시면 고양이 영상도 추천합니다!')\n",
    "    elif k=='먹방':\n",
    "        print('먹방 영상을 좋아하시면 요리 영상도 추천합니다!')\n",
    "    elif k=='요리':\n",
    "        print('요리 영상을 좋아하시면 먹방 영상도 추천합니다!')\n",
    "    else:\n",
    "        print('댄스 영상을 좋아하시면 음악 영상도 추천합니다!')\n",
    "else:\n",
    "    print('입력하신 카테고리를 리스트목록에 추가하겠습니다.')\n",
    "    like.append(k)\n",
    "    print('지금까지의 리스트목록은 %s입니다' %(like))"
   ]
  },
  {
   "cell_type": "code",
   "execution_count": null,
   "id": "8623c983",
   "metadata": {},
   "outputs": [],
   "source": []
  },
  {
   "cell_type": "code",
   "execution_count": null,
   "id": "aa257328",
   "metadata": {},
   "outputs": [],
   "source": []
  }
 ],
 "metadata": {
  "kernelspec": {
   "display_name": "Python 3 (ipykernel)",
   "language": "python",
   "name": "python3"
  },
  "language_info": {
   "codemirror_mode": {
    "name": "ipython",
    "version": 3
   },
   "file_extension": ".py",
   "mimetype": "text/x-python",
   "name": "python",
   "nbconvert_exporter": "python",
   "pygments_lexer": "ipython3",
   "version": "3.9.5"
  }
 },
 "nbformat": 4,
 "nbformat_minor": 5
}
