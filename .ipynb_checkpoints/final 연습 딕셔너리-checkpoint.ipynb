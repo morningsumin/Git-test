{
 "cells": [
  {
   "cell_type": "code",
   "execution_count": 1,
   "id": "938f10e5",
   "metadata": {},
   "outputs": [
    {
     "name": "stdout",
     "output_type": "stream",
     "text": [
      "깨어지다\n"
     ]
    }
   ],
   "source": [
    "eng = {'break':'깨어지다', 'bring':'가져오다', 'brush':'붓'}\n",
    "print(eng['break'])"
   ]
  },
  {
   "cell_type": "code",
   "execution_count": 2,
   "id": "df205e4d",
   "metadata": {},
   "outputs": [
    {
     "name": "stdout",
     "output_type": "stream",
     "text": [
      "{'김밥': 2500, '참치김밥': 3000, '라면': 3000, '치즈라면': 4000, '돈까스': 6000}\n",
      "어떤 메뉴를 드시겠습니까?돈까스\n",
      "6000 원입니다.\n"
     ]
    }
   ],
   "source": [
    "menu = {'김밥':2500, '참치김밥':3500, '라면':3000, '치즈라면':4000}\n",
    "menu['참치김밥'] = 3000\n",
    "menu['돈까스'] = 6000\n",
    "print(menu)\n",
    "eat = input('어떤 메뉴를 드시겠습니까?')\n",
    "print(menu[eat], '원입니다.')"
   ]
  },
  {
   "cell_type": "code",
   "execution_count": 5,
   "id": "4e0f1308",
   "metadata": {},
   "outputs": [
    {
     "name": "stdout",
     "output_type": "stream",
     "text": [
      "우리분식집의 신메뉴를 모집합니다!!\n",
      "메뉴 이름은? :라면\n",
      "메뉴의 가격은? :3400\n",
      "{'돈까스': 3400, '국밥': 4000, '떡볶이': 3400, '라면': 3400}\n"
     ]
    }
   ],
   "source": [
    "print('우리분식집의 신메뉴를 모집합니다!!')\n",
    "menu = {'돈까스':3400, '국밥':4000, '떡볶이':3400}\n",
    "name=input('메뉴 이름은? :')\n",
    "price=int(input('메뉴의 가격은? :'))\n",
    "menu[name]=price\n",
    "print(menu)"
   ]
  },
  {
   "cell_type": "code",
   "execution_count": 6,
   "id": "8e5d4e94",
   "metadata": {},
   "outputs": [
    {
     "name": "stdout",
     "output_type": "stream",
     "text": [
      "{'돈까스': 3400, '떡볶이': 3400}\n"
     ]
    }
   ],
   "source": [
    "menu = {'돈까스':3400, '국밥':4000, '떡볶이':3400}\n",
    "del menu['국밥']\n",
    "print(menu)"
   ]
  },
  {
   "cell_type": "code",
   "execution_count": 6,
   "id": "36727bdf",
   "metadata": {},
   "outputs": [
    {
     "name": "stdout",
     "output_type": "stream",
     "text": [
      "{'돈까스': 3400, '떡볶이': 3400, '콩나물밥': 3500, '김치찌개': 5000}\n"
     ]
    }
   ],
   "source": [
    "menu = {'돈까스':3400, '국밥':4000, '떡볶이':3400}\n",
    "del menu['국밥']\n",
    "menu['콩나물밥']=3500\n",
    "menu['김치찌개']=5000\n",
    "print(menu)"
   ]
  },
  {
   "cell_type": "code",
   "execution_count": 16,
   "id": "8a4ec847",
   "metadata": {},
   "outputs": [
    {
     "name": "stdout",
     "output_type": "stream",
     "text": [
      "['돈까스', '국밥', '떡볶이']\n",
      "[3400, 4000, 3400]\n",
      "[('돈까스', 3400), ('국밥', 4000), ('떡볶이', 3400)]\n"
     ]
    }
   ],
   "source": [
    "menu = {'돈까스':3400, '국밥':4000, '떡볶이':3400}\n",
    "print(list(menu.keys()))\n",
    "print(list(menu.values()))\n",
    "print(list(menu.items()))"
   ]
  },
  {
   "cell_type": "code",
   "execution_count": 31,
   "id": "01473d37",
   "metadata": {},
   "outputs": [
    {
     "name": "stdout",
     "output_type": "stream",
     "text": [
      "[1500, 1700]\n",
      "[10500, 4800]\n"
     ]
    }
   ],
   "source": [
    "mart = {'과자':1500, '아이스크림':1700, '휴지':4800, '고기':10500, '우유':2600}\n",
    "print(sorted(mart.values())[:2])\n",
    "print(sorted(mart.values(), reverse=True)[:2])"
   ]
  },
  {
   "cell_type": "code",
   "execution_count": 33,
   "id": "0d130ea8",
   "metadata": {},
   "outputs": [
    {
     "name": "stdout",
     "output_type": "stream",
     "text": [
      "[('고기', 10500), ('과자', 1500), ('아이스크림', 1700), ('우유', 2600), ('휴지', 4800)]\n"
     ]
    }
   ],
   "source": [
    "mart = {'과자':1500, '아이스크림':1700, '휴지':4800, '고기':10500, '우유':2600}\n",
    "print(sorted(mart.items()))"
   ]
  },
  {
   "cell_type": "code",
   "execution_count": 37,
   "id": "53dc6fc8",
   "metadata": {},
   "outputs": [
    {
     "name": "stdout",
     "output_type": "stream",
     "text": [
      "[('과자', 1500), ('아이스크림', 1700)]\n"
     ]
    }
   ],
   "source": [
    "import operator\n",
    "\n",
    "mart = {'과자':1500, '아이스크림':1700, '휴지':4800, '고기':10500, '우유':2600}\n",
    "print(sorted(mart.items(), key=operator.itemgetter(1))[:2])"
   ]
  },
  {
   "cell_type": "code",
   "execution_count": 43,
   "id": "7fddb593",
   "metadata": {},
   "outputs": [
    {
     "name": "stdout",
     "output_type": "stream",
     "text": [
      "{'고기': 10500, '과자': 1500, '아이스크림': 1700, '우유': 2600, '휴지': 4800}\n"
     ]
    }
   ],
   "source": [
    "import operator\n",
    "\n",
    "mart = {'과자':1500, '아이스크림':1700, '휴지':4800, '고기':10500, '우유':2600}\n",
    "mart = dict(sorted(mart.items()))\n",
    "print(mart)"
   ]
  },
  {
   "cell_type": "code",
   "execution_count": 5,
   "id": "aa97a96e",
   "metadata": {},
   "outputs": [
    {
     "name": "stdout",
     "output_type": "stream",
     "text": [
      "[('과자', 1500), ('아이스크림', 1700), ('우유', 2600)]\n"
     ]
    }
   ],
   "source": [
    "import operator\n",
    "\n",
    "mart = {'과자':1500, '아이스크림':1700, '휴지':4000, '고기':10500, '우유':2600}\n",
    "print((sorted(mart.items(), key=operator.itemgetter(1))[:3]))"
   ]
  },
  {
   "cell_type": "code",
   "execution_count": 46,
   "id": "9bdf796a",
   "metadata": {},
   "outputs": [
    {
     "name": "stdout",
     "output_type": "stream",
     "text": [
      "학생이름만 입력해주세요.하윤\n",
      "학생의 점수는 82 입니다.\n"
     ]
    }
   ],
   "source": [
    "midterm = {'도윤':43, '하윤':82, '시우':76, '지유':61, '주원':94}\n",
    "k = input('학생이름만 입력해주세요.')\n",
    "if k in midterm:\n",
    "    print('학생의 점수는',midterm[k],'입니다.')\n",
    "else:\n",
    "    print('해당 학생은 리스트에 없습니다!')"
   ]
  },
  {
   "cell_type": "code",
   "execution_count": 49,
   "id": "95f794d2",
   "metadata": {},
   "outputs": [
    {
     "name": "stdout",
     "output_type": "stream",
     "text": [
      "학생이름만 입력해주세요.하윤\n",
      "학생의 점수는 82 점 입니다.\n"
     ]
    }
   ],
   "source": [
    "midterm = {'도윤':43, '하윤':82, '시우':76, '지유':61, '주원':94}\n",
    "k = input('학생이름만 입력해주세요.')\n",
    "if k in midterm.keys():\n",
    "    print('학생의 점수는',midterm[k],'점 입니다.')\n",
    "else:\n",
    "    print('해당 학생은 리스트에 없습니다!')"
   ]
  },
  {
   "cell_type": "code",
   "execution_count": 51,
   "id": "743cee0a",
   "metadata": {},
   "outputs": [
    {
     "name": "stdout",
     "output_type": "stream",
     "text": [
      "도윤 하윤 시우 지유 주원 43 82 76 61 94 "
     ]
    }
   ],
   "source": [
    "midterm = {'도윤':43, '하윤':82, '시우':76, '지유':61, '주원':94}\n",
    "for k in midterm.keys():\n",
    "    print(k, end=' ')\n",
    "for v in midterm.values():\n",
    "    print(v, end=' ')"
   ]
  },
  {
   "cell_type": "code",
   "execution_count": 4,
   "id": "efa68a70",
   "metadata": {},
   "outputs": [
    {
     "name": "stdout",
     "output_type": "stream",
     "text": [
      "학생의 이름만 입력해주세요.하윤\n",
      "학생의 점수 : 82\n"
     ]
    }
   ],
   "source": [
    "midterm = {'도윤':43, '하윤':82, '시우':76, '지유':61, '주원':94}\n",
    "student = input('학생의 이름만 입력해주세요.')\n",
    "if student in midterm.keys():\n",
    "    print('학생의 점수 :',midterm[student])\n",
    "else:\n",
    "    print('학생이 존재하지 않습니다.')"
   ]
  },
  {
   "cell_type": "code",
   "execution_count": 9,
   "id": "0927863d",
   "metadata": {},
   "outputs": [
    {
     "name": "stdout",
     "output_type": "stream",
     "text": [
      "도윤 43\n",
      "하윤 82\n",
      "시우 76\n",
      "지유 61\n",
      "주원 94\n"
     ]
    }
   ],
   "source": [
    "midterm = {'도윤':43, '하윤':82, '시우':76, '지유':61, '주원':94}\n",
    "for k in midterm.keys():\n",
    "    print(k, midterm[k])"
   ]
  },
  {
   "cell_type": "code",
   "execution_count": 11,
   "id": "e8bcb86a",
   "metadata": {},
   "outputs": [
    {
     "name": "stdout",
     "output_type": "stream",
     "text": [
      "('도윤', 43) ('하윤', 82) ('시우', 76) ('지유', 61) ('주원', 94) "
     ]
    }
   ],
   "source": [
    "midterm = {'도윤':43, '하윤':82, '시우':76, '지유':61, '주원':94}\n",
    "for i in midterm.items():\n",
    "    print(i, end=' ')"
   ]
  },
  {
   "cell_type": "code",
   "execution_count": 15,
   "id": "82fe3525",
   "metadata": {},
   "outputs": [
    {
     "name": "stdout",
     "output_type": "stream",
     "text": [
      "도윤 43 하윤 82 시우 76 지유 61 주원 94 "
     ]
    }
   ],
   "source": [
    "midterm = {'도윤':43, '하윤':82, '시우':76, '지유':61, '주원':94}\n",
    "for k, v in midterm.items():\n",
    "    print(k, v, end=' ')"
   ]
  },
  {
   "cell_type": "code",
   "execution_count": 17,
   "id": "4e68bcc8",
   "metadata": {},
   "outputs": [
    {
     "name": "stdout",
     "output_type": "stream",
     "text": [
      "학생의 이름,점수 : 하윤 82\n",
      "학생의 이름,점수 : 시우 76\n",
      "학생의 이름,점수 : 주원 94\n"
     ]
    }
   ],
   "source": [
    "midterm = {'도윤':43, '하윤':82, '시우':76, '지유':61, '주원':94}\n",
    "for k in midterm.keys():\n",
    "    if midterm[k] >= 70 :\n",
    "        print('학생의 이름,점수 :', k, midterm[k])"
   ]
  },
  {
   "cell_type": "code",
   "execution_count": 18,
   "id": "b8f87adb",
   "metadata": {},
   "outputs": [
    {
     "name": "stdout",
     "output_type": "stream",
     "text": [
      "점수가 70점 이상인 학생을 모두 출력합니다.\n",
      "하윤 82\n",
      "시우 76\n",
      "주원 94\n"
     ]
    }
   ],
   "source": [
    "midterm = {'도윤':43, '하윤':82, '시우':76, '지유':61, '주원':94}\n",
    "print('점수가 70점 이상인 학생을 모두 출력합니다.')\n",
    "for k, v in midterm.items():\n",
    "    if v>=70 :\n",
    "        print(k,v)"
   ]
  },
  {
   "cell_type": "code",
   "execution_count": 19,
   "id": "45348a3d",
   "metadata": {},
   "outputs": [
    {
     "name": "stdout",
     "output_type": "stream",
     "text": [
      "도윤\n",
      "하윤\n",
      "시우\n",
      "지유\n",
      "주원\n"
     ]
    }
   ],
   "source": [
    "midterm = {'도윤':43, '하윤':82, '시우':76, '지유':61, '주원':94}\n",
    "for m in midterm:\n",
    "    print(m)"
   ]
  },
  {
   "cell_type": "code",
   "execution_count": null,
   "id": "d5ae1af3",
   "metadata": {},
   "outputs": [],
   "source": [
    "alibaba = \"in a town of persia lived two brothers , sons of a poor man , one named cassim , the other alibaba . cassim , the elder , married a wife with a considerable fortune , and lived at his ease , but the wife of alibaba was as poor as himself . they dwelt in a mean cottage in the suburbs , and he maintained his family by cutting wood . alibaba was in the forest preparing to load his asses with the faggots he had cut , when he saw a troop of horsemen approaching . he hastily climbed a large thick tree , and hid himself among the branches . alibaba counted forty of them , each took a loaded portmanteau from his horse , and turning to the rock , said , open , sesame immediately a door opened , the robbers passed in , when the door shut of itself . in a short time the door opened again , and the robbers came out , who said , shut , sesame . the door instantly closed . alibaba ventured down , and approaching the rock , said , open , sesame . immediately the door flew open . he brought his asses , and took as many bags of gold coin as they could carry . alibaba told his brother the secret of the cave . cassim rose early next morning , and set out with ten mules loaded with great chests . he found the rock , and having said , open sesame , gained admission , where he found more treasures than he expected , which made him forget the word that caused the door to open . presently he heard the sound of horses feet , which he concluded to be the robbers , who instantly put him to death . alibaba drove to the forest , and on entering the cave , he found the body of his brother cut into quarters . he took the quarters , and put them upon one of his asses , and delivered the body to cassim wife . morgiana , a female slave in his brother house , was sent early next morning to a poor cobbler , and gave him two pieces of gold to go with her blindfolded , taking him into the room where the body was lying , bade him sew the mangled limbs together . mustapha obeyed , having received two pieces of gold , and was led blindfolded the same way back . cassim was buried with all due solemnity , and alibaba removed to the house of his deceased brother , of which he took possession . the captain of the troop resolved to find out who possessed the secret of entrance into his cave , and disguising himself , went to the city early one morning , when , accosting the cobbler , he was told of the job he had , who for six pieces of gold , allowed himself to be blindfolded , and traced out the house of cassim , which the robber marked with chalk . buying nineteen mules and thirty-nine large jars , one full of oil , and the rest empty , the captain put a man into each jar , properly armed , and then proceeded to the street where alibaba dwelt . sir , said he , i have brought this oil a great way to sell , as i am quite a stranger , will you let me put my mules into your courtyard , and direct me where i may lodge to-night ? alibaba welcomed the pretended oil merchant , offered him a bed in his own house , and invited his guest in to supper . morgiana , sitting up later that night than usual , her lamp went out . she took her oil pot in her hand , and approaching the first jar , the robber within said is it time , captain ? she replied , no , not yet . so she ran back to the kitchen , and brought out a large kettle , which she filled with oil , set it on a great wood fire , and as soon as it boiled , she went and poured into the jars sufficient of the boiling oil to kill every man within . the captain of the robbers arose to assemble his men . coming to the first jar , he felt the steam of the boiled oil ! he ran hastily to the rest , and found every one of his troop put to death . full of rage , he forced the lock of the door , and made his escape over the walls . without letting any one into the secret , alibaba and morgiana the next night buried the thirty-nine thieves at the bottom of the garden . the captain at length , however , determined to adopt a new scheme for the destruction of alibaba . he removed all the valuable merchandise from the cave to the city , and took a shop exactly opposite to alibaba house . alibaba son went every day to his shop . the pretended cogia hassan soon appeared to be very fond of alibaba son , offered him many presents , and often detained him to dinner . alibaba thought it was necessary to make some return to these civilities , and he invited cogia hassan to supper , morgiana carried in the first dish herself . the moment she looked at cogia hassan , she knew it was the pretended oil merchant . she sent the other slaves into the kitchen , and waited at table herself , and while cogia hassan was drinking , she perceived he had a dagger hid under his coat . she went away , and dressed herself in the habit of a dancing-girl . as soon as she appeared at the parlor door , her master ordered her to come in to entertain his guest with some of her best dancing . morgiana danced several times before the assembled company , until , coming opposite cogia hassan , she drew a dagger from her girdle and plunged it into the robber heart . as a reward for her faithfulness , alibaba gave her in marriage to his son , and at his death put them in possession of his immense wealth .\n",
    "\"\n",
    "vocab = {}\n",
    "\n",
    "word_list = alibaba.split()\n",
    "for w in word_list:\n",
    "    if w not in vocab:\n",
    "        vocab[w]=1\n",
    "    else:\n",
    "        vocab[w]+=1\n",
    "print(vocab)\n",
    "\n",
    "import operator\n",
    "\n",
    "print(sorted(vocab.items(), key=operator.itemgetter(1), reverse=True))"
   ]
  },
  {
   "cell_type": "code",
   "execution_count": null,
   "id": "e11cca69",
   "metadata": {},
   "outputs": [],
   "source": [
    "meaningless = ['.', ',', '!', '?', 'the', 'he', 'and', 'to', 'a', 'of', \n",
    "               'was', 'in', 'had', 'for', 'it', 'that', 'but', 'as', 'with', \n",
    "               'at', 'i', 'into', 'be', 'this', 'me', 'from', 'then', 'him', \n",
    "               'his', 'her', 'she','they', 'them', 'you']\n",
    "for word in meaningless:\n",
    "    del vocab[word]"
   ]
  },
  {
   "cell_type": "markdown",
   "id": "c01d195b",
   "metadata": {},
   "source": [
    "# 7장 Self Check"
   ]
  },
  {
   "cell_type": "code",
   "execution_count": 2,
   "id": "522376f8",
   "metadata": {},
   "outputs": [
    {
     "name": "stdout",
     "output_type": "stream",
     "text": [
      "{'월요일': 'Mon', '화요일': 'Tue', '수요일': 'Wed', '목요일': 'Thu', '금요일': 'Fri', '토요일': 'Sat', '일요일': 'Sun'}\n",
      "{'월요일': 'Mon', '화요일': 'Tue', '목요일': 'Thu', '금요일': 'Fri', '토요일': 'Sat', '일요일': 'SUN'}\n"
     ]
    }
   ],
   "source": [
    "day = {'월요일':'Mon','화요일':'Tue','수요일':'Wed','목요일':'Thu','금요일':'Fri'}\n",
    "day['토요일']='Sat'\n",
    "day['일요일']='Sun'\n",
    "print(day)\n",
    "\n",
    "day['일요일']='SUN'\n",
    "del day['수요일']\n",
    "print(day)"
   ]
  },
  {
   "cell_type": "code",
   "execution_count": null,
   "id": "9799908f",
   "metadata": {},
   "outputs": [],
   "source": [
    "book = {'역사대모험':20000,\n",
    "       '영단어':9000,\n",
    "       '파이썬':17000,\n",
    "       '여행에세이':22000,\n",
    "       '삼국지':33000\n",
    "       }\n",
    "\n",
    "for i in book:\n",
    "    if book.values()<=15000:\n",
    "        book.values()*0.1\n",
    "    \n",
    "    else:\n",
    "        book.values()*0.05"
   ]
  },
  {
   "cell_type": "code",
   "execution_count": null,
   "id": "ee900e0c",
   "metadata": {},
   "outputs": [],
   "source": []
  }
 ],
 "metadata": {
  "kernelspec": {
   "display_name": "Python 3 (ipykernel)",
   "language": "python",
   "name": "python3"
  },
  "language_info": {
   "codemirror_mode": {
    "name": "ipython",
    "version": 3
   },
   "file_extension": ".py",
   "mimetype": "text/x-python",
   "name": "python",
   "nbconvert_exporter": "python",
   "pygments_lexer": "ipython3",
   "version": "3.9.5"
  }
 },
 "nbformat": 4,
 "nbformat_minor": 5
}
