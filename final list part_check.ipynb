{
 "cells": [
  {
   "cell_type": "code",
   "execution_count": 5,
   "id": "a7004348",
   "metadata": {},
   "outputs": [
    {
     "name": "stdout",
     "output_type": "stream",
     "text": [
      "이번년도 지출액 [24, 36, 8, 53, 24, 56, 38, 79, 94, 20, 40, 25] 12\n",
      "56\n"
     ]
    }
   ],
   "source": [
    "spending_year = [24,36,8,53,24,56,38,79,94,20,40,25]\n",
    "print('이번년도 지출액',spending_year, len(spending_year))\n",
    "print(spending_year[5])"
   ]
  },
  {
   "cell_type": "code",
   "execution_count": 8,
   "id": "ab821e97",
   "metadata": {},
   "outputs": [
    {
     "name": "stdout",
     "output_type": "stream",
     "text": [
      "[25, 36, 8, 53, 24, 56, 38, 79, 94, 20, 40, 25]\n"
     ]
    }
   ],
   "source": [
    "spending_year = [24,36,8,53,24,56,38,79,94,20,40,25]\n",
    "spending_year[0]+=1\n",
    "print(spending_year)"
   ]
  },
  {
   "cell_type": "code",
   "execution_count": 12,
   "id": "372e0961",
   "metadata": {},
   "outputs": [
    {
     "name": "stdout",
     "output_type": "stream",
     "text": [
      "25 36 8 53 24 56 "
     ]
    }
   ],
   "source": [
    "spending = [25,36,8,53,24,56]\n",
    "for s in [25,36,8,53,24,56]:\n",
    "    print(s, end=' ')"
   ]
  },
  {
   "cell_type": "code",
   "execution_count": 19,
   "id": "df92fdfe",
   "metadata": {},
   "outputs": [
    {
     "name": "stdout",
     "output_type": "stream",
     "text": [
      "25 36 8 53 24 56 "
     ]
    }
   ],
   "source": [
    "spending = [25,36,8,53,24,56]\n",
    "for s in range(len(spending)):\n",
    "    print(spending[s], end=' ')"
   ]
  },
  {
   "cell_type": "code",
   "execution_count": 18,
   "id": "78a720f0",
   "metadata": {},
   "outputs": [
    {
     "name": "stdout",
     "output_type": "stream",
     "text": [
      "25 36 8 53 24 56 "
     ]
    }
   ],
   "source": [
    "spending = [25,36,8,53,24,56]\n",
    "for s in spending:\n",
    "    print(s, end=' ')"
   ]
  },
  {
   "cell_type": "code",
   "execution_count": 24,
   "id": "55cc82e6",
   "metadata": {},
   "outputs": [
    {
     "name": "stdout",
     "output_type": "stream",
     "text": [
      "5\n",
      "가장 좋아하는 음식은 피자\n",
      "가장 덜 좋아하는 음식은 파스타\n",
      "가장 덜 좋아하는 음식은 파스타\n"
     ]
    }
   ],
   "source": [
    "food = ['피자','치킨','떡볶이','스테이크','파스타']\n",
    "print(len(food))\n",
    "print('가장 좋아하는 음식은',food[0])\n",
    "print('가장 덜 좋아하는 음식은', food[len(food)-1])\n",
    "print('가장 덜 좋아하는 음식은', food[-1])"
   ]
  },
  {
   "cell_type": "code",
   "execution_count": 29,
   "id": "0cbc5195",
   "metadata": {},
   "outputs": [
    {
     "name": "stdout",
     "output_type": "stream",
     "text": [
      "['피자', '떡볶이', '파스타', '감자칩']\n"
     ]
    }
   ],
   "source": [
    "food = ['피자','치킨','떡볶이','스테이크','파스타']\n",
    "food.append('감자칩')\n",
    "food.remove('치킨')\n",
    "del food[-3]\n",
    "print(food)"
   ]
  },
  {
   "cell_type": "code",
   "execution_count": 34,
   "id": "96815d4a",
   "metadata": {},
   "outputs": [
    {
     "name": "stdout",
     "output_type": "stream",
     "text": [
      "['피자', '치킨', '떡볶이']\n",
      "['치킨', '떡볶이', '스테이크', '파스타']\n",
      "5\n",
      "['피자', '치킨', '떡볶이', '스테이크', '파스타', '치즈스틱']\n",
      "['피자', '치킨', '떡볶이', '스테이크', '치즈스틱']\n",
      "['피자', '치킨', '떡볶이', '치즈스틱']\n"
     ]
    }
   ],
   "source": [
    "food = ['피자','치킨','떡볶이','스테이크','파스타']\n",
    "print(food[:3])\n",
    "print(food[1:])\n",
    "print(len(food))\n",
    "food.append('치즈스틱')\n",
    "print(food)\n",
    "food.remove('파스타')\n",
    "print(food)\n",
    "del food[-2]\n",
    "print(food)"
   ]
  },
  {
   "cell_type": "code",
   "execution_count": 36,
   "id": "b1ba0b82",
   "metadata": {},
   "outputs": [
    {
     "name": "stdout",
     "output_type": "stream",
     "text": [
      "['나는', '한강이', '제일', '좋더라.']\n"
     ]
    }
   ],
   "source": [
    "place = '나는_한강이_제일_좋더라.'\n",
    "print(place.split('_'))"
   ]
  },
  {
   "cell_type": "code",
   "execution_count": 42,
   "id": "fc4a4cd3",
   "metadata": {},
   "outputs": [
    {
     "name": "stdout",
     "output_type": "stream",
     "text": [
      "['피자', '치킨', '떡볶이', '파스타']\n",
      "정렬 후 ['피자', '파스타', '치킨', '떡볶이']\n"
     ]
    }
   ],
   "source": [
    "food = ['피자','치킨','떡볶이','스테이크','파스타']\n",
    "del food[3]\n",
    "print(food)\n",
    "food.sort(reverse=True)\n",
    "print('정렬 후', food)"
   ]
  },
  {
   "cell_type": "code",
   "execution_count": 40,
   "id": "f959c723",
   "metadata": {},
   "outputs": [
    {
     "name": "stdout",
     "output_type": "stream",
     "text": [
      "[56, 53, 36]\n"
     ]
    }
   ],
   "source": [
    "spending_6mon = [25,36,8,53,24,56]\n",
    "spending_6mon.sort(reverse=True)\n",
    "print(spending_6mon[:3])"
   ]
  },
  {
   "cell_type": "code",
   "execution_count": 45,
   "id": "c33d0b53",
   "metadata": {},
   "outputs": [
    {
     "name": "stdout",
     "output_type": "stream",
     "text": [
      "56 8\n",
      "202\n",
      "4\n"
     ]
    }
   ],
   "source": [
    "spending_6mon = [25,36,8,53,24,56]\n",
    "print(max(spending_6mon), min(spending_6mon))\n",
    "print(sum(spending_6mon))\n",
    "print(spending_6mon.index(24))"
   ]
  },
  {
   "cell_type": "code",
   "execution_count": 2,
   "id": "985f3c70",
   "metadata": {},
   "outputs": [
    {
     "name": "stdout",
     "output_type": "stream",
     "text": [
      "찾으시는 음식이름을 입력하시오.스테이크\n",
      "해당 음식은 3 위 입니다.\n"
     ]
    }
   ],
   "source": [
    "food = ['피자','치킨','스테이크','된장찌개']\n",
    "search = input('찾으시는 음식이름을 입력하시오.')\n",
    "if search in food:\n",
    "    print('해당 음식은',food.index(search)+1,'위 입니다.')\n",
    "else:\n",
    "    print('해당 음식이 리스트에 존재하지 않습니다.')"
   ]
  },
  {
   "cell_type": "code",
   "execution_count": 3,
   "id": "50319ba5",
   "metadata": {},
   "outputs": [
    {
     "name": "stdout",
     "output_type": "stream",
     "text": [
      "시청한 영상은?다이어트\n",
      "시청한 영상은?곰돌이\n",
      "시청한 영상은?네오와 제로\n",
      "시청한 영상은?영상\n",
      "시청한 영상은?렣어\n",
      "지금까지 시청한 영상은 ['다이어트', '곰돌이', '네오와 제로', '영상', '렣어']\n",
      "그냥 ㄹㄴㅇㄹㄴ\n"
     ]
    }
   ],
   "source": [
    "history = []\n",
    "for i in range(5):\n",
    "    history.append(input('시청한 영상은?'))\n",
    "print('지금까지 시청한 영상은', history)\n",
    "if '다이어트' in history:\n",
    "    print('그냥 ㄹㄴㅇㄹㄴ')"
   ]
  },
  {
   "cell_type": "code",
   "execution_count": 6,
   "id": "0fe27a10",
   "metadata": {},
   "outputs": [
    {
     "name": "stdout",
     "output_type": "stream",
     "text": [
      "[57, 67, 71, 12, 95, 40, 69, 35, 31, 31, 74, 14, 16, 85, 89, 61, 33, 51, 15, 56, 31, 5, 54, 52, 89]\n",
      "25\n"
     ]
    }
   ],
   "source": [
    "import random\n",
    "\n",
    "score = []\n",
    "for i in range(25):\n",
    "    score.append(random.randint(0,100))\n",
    "print(score)\n",
    "print(len(score))"
   ]
  },
  {
   "cell_type": "code",
   "execution_count": 2,
   "id": "7c7f1c0b",
   "metadata": {},
   "outputs": [
    {
     "name": "stdout",
     "output_type": "stream",
     "text": [
      "[10, 49, 33, 89, 36, 75, 2, 96, 19, 30, 53, 17, 23, 57, 62, 96, 91, 87, 23, 71, 36, 63, 2, 37, 45]\n",
      "리스트를 사용해 70점 이상인 점수 출력하기\n",
      "4 번째 89 점\n",
      "6 번째 75 점\n",
      "8 번째 96 점\n",
      "8 번째 96 점\n",
      "17 번째 91 점\n",
      "18 번째 87 점\n",
      "20 번째 71 점\n",
      "인덱스를 사용해 70점 이상출력\n",
      "4 번째 89 점\n",
      "6 번째 75 점\n",
      "8 번째 96 점\n",
      "16 번째 96 점\n",
      "17 번째 91 점\n",
      "18 번째 87 점\n",
      "20 번째 71 점\n"
     ]
    }
   ],
   "source": [
    "import random\n",
    "\n",
    "score = []\n",
    "for i in range(25):\n",
    "    score.append(random.randint(0,100))\n",
    "print(score)\n",
    "\n",
    "print('리스트를 사용해 70점 이상인 점수 출력하기')\n",
    "for s in score:\n",
    "    if s>=70:\n",
    "        print(score.index(s)+1,'번째',s,'점')\n",
    "\n",
    "print('인덱스를 사용해 70점 이상출력')\n",
    "for k in range(len(score)):\n",
    "    if score[k]>=70:\n",
    "        print(k+1,'번째',score[k],'점')"
   ]
  },
  {
   "cell_type": "code",
   "execution_count": 4,
   "id": "598f653f",
   "metadata": {},
   "outputs": [
    {
     "name": "stdout",
     "output_type": "stream",
     "text": [
      "3\n",
      "[7, 8, 9]\n"
     ]
    }
   ],
   "source": [
    "abc = [[1,2,3],[4,5,6],[7,8,9]]\n",
    "print(abc[0][2])\n",
    "print(abc[2])"
   ]
  },
  {
   "cell_type": "code",
   "execution_count": 11,
   "id": "3ba92369",
   "metadata": {},
   "outputs": [
    {
     "name": "stdout",
     "output_type": "stream",
     "text": [
      "1\n",
      "4\n",
      "7\n"
     ]
    }
   ],
   "source": [
    "abc = [[1,2,3],\n",
    "       [4,5,6],\n",
    "       [7,8,9]]\n",
    "for row in abc:\n",
    "    print(row[0])"
   ]
  },
  {
   "cell_type": "code",
   "execution_count": 13,
   "id": "bfc0110c",
   "metadata": {},
   "outputs": [
    {
     "name": "stdout",
     "output_type": "stream",
     "text": [
      "미국 금메달 개수: [46, 37, 38]\n"
     ]
    }
   ],
   "source": [
    "olympic = [[1,'미국',46,37,38,121],\n",
    "          [2,'영국',27,23,17,67],\n",
    "          [3,'중국',26,18,26,70],\n",
    "          [4,'러시아',19,18,19,55],\n",
    "          [5,'독일',17,10,15,42],\n",
    "          [6,'일본',12,8,21,41],\n",
    "          [7,'프랑스',10,18,14,42],\n",
    "          [8,'대한민국',9,3,9,21]]\n",
    "\n",
    "print(olympic[0][1],'금메달 개수:', olympic[0][2:5])"
   ]
  },
  {
   "cell_type": "code",
   "execution_count": 15,
   "id": "f01c8b40",
   "metadata": {},
   "outputs": [
    {
     "name": "stdout",
     "output_type": "stream",
     "text": [
      "금메달보다 은메달이 더 많은 나라\n",
      "프랑스 은(는) 은메달이 더 많습니다.\n"
     ]
    }
   ],
   "source": [
    "olympic = [[1,'미국',46,37,38,121],\n",
    "          [2,'영국',27,23,17,67],\n",
    "          [3,'중국',26,18,26,70],\n",
    "          [4,'러시아',19,18,19,55],\n",
    "          [5,'독일',17,10,15,42],\n",
    "          [6,'일본',12,8,21,41],\n",
    "          [7,'프랑스',10,18,14,42],\n",
    "          [8,'대한민국',9,3,9,21]]\n",
    "\n",
    "print('금메달보다 은메달이 더 많은 나라')\n",
    "for row in olympic:\n",
    "    if row[2]<row[3]:\n",
    "        print(row[1],'은(는) 은메달이 더 많습니다.')"
   ]
  },
  {
   "cell_type": "code",
   "execution_count": null,
   "id": "5d94db53",
   "metadata": {},
   "outputs": [],
   "source": []
  }
 ],
 "metadata": {
  "kernelspec": {
   "display_name": "Python 3 (ipykernel)",
   "language": "python",
   "name": "python3"
  },
  "language_info": {
   "codemirror_mode": {
    "name": "ipython",
    "version": 3
   },
   "file_extension": ".py",
   "mimetype": "text/x-python",
   "name": "python",
   "nbconvert_exporter": "python",
   "pygments_lexer": "ipython3",
   "version": "3.9.5"
  }
 },
 "nbformat": 4,
 "nbformat_minor": 5
}
