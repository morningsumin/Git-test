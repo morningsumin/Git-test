{
 "cells": [
  {
   "cell_type": "code",
   "execution_count": 1,
   "id": "831e43e6",
   "metadata": {},
   "outputs": [
    {
     "name": "stdout",
     "output_type": "stream",
     "text": [
      "어떤 메뉴를 드시겠습니까?김밥\n",
      "2500 원입니다.\n"
     ]
    }
   ],
   "source": [
    "menu = {'김밥':2500, '참치김밥':3500, '라면':3000, '치즈라면':4000}\n",
    "eat = input('어떤 메뉴를 드시겠습니까?')\n",
    "print(menu[eat],'원입니다.')"
   ]
  },
  {
   "cell_type": "code",
   "execution_count": 2,
   "id": "014fa396",
   "metadata": {},
   "outputs": [
    {
     "name": "stdout",
     "output_type": "stream",
     "text": [
      "{'김밥': 2500, '참치김밥': 3000, '라면': 3000, '치즈라면': 4000}\n"
     ]
    }
   ],
   "source": [
    "menu = {'김밥':2500, '참치김밥':3500, '라면':3000, '치즈라면':4000}\n",
    "menu['참치김밥']=3000\n",
    "print(menu)"
   ]
  },
  {
   "cell_type": "code",
   "execution_count": 3,
   "id": "31a48a42",
   "metadata": {},
   "outputs": [
    {
     "name": "stdout",
     "output_type": "stream",
     "text": [
      "{'김밥': 2500, '참치김밥': 3500, '라면': 3000}\n"
     ]
    }
   ],
   "source": [
    "menu = {'김밥':2500, '참치김밥':3500, '라면':3000, '치즈라면':4000}\n",
    "del menu['치즈라면']\n",
    "print(menu)"
   ]
  },
  {
   "cell_type": "code",
   "execution_count": 5,
   "id": "303c4b53",
   "metadata": {},
   "outputs": [
    {
     "name": "stdout",
     "output_type": "stream",
     "text": [
      "dict_keys(['김밥', '참치김밥', '라면', '치즈라면'])\n"
     ]
    }
   ],
   "source": [
    "menu = {'김밥':2500, '참치김밥':3500, '라면':3000, '치즈라면':4000}\n",
    "print(menu.keys())"
   ]
  },
  {
   "cell_type": "code",
   "execution_count": 8,
   "id": "23bbadf6",
   "metadata": {},
   "outputs": [
    {
     "name": "stdout",
     "output_type": "stream",
     "text": [
      "dict_values([2500, 3500, 3000, 4000])\n",
      "dict_values([2500, 3500, 3000, 4000])\n",
      "['김밥', '참치김밥', '라면', '치즈라면']\n",
      "dict_items([('김밥', 2500), ('참치김밥', 3500), ('라면', 3000), ('치즈라면', 4000)])\n"
     ]
    }
   ],
   "source": [
    "menu = {'김밥':2500, '참치김밥':3500, '라면':3000, '치즈라면':4000}\n",
    "print(menu.values())\n",
    "print(menu.values())\n",
    "print(list(menu.keys()))\n",
    "print(menu.items())"
   ]
  },
  {
   "cell_type": "code",
   "execution_count": 9,
   "id": "47e04d52",
   "metadata": {},
   "outputs": [
    {
     "name": "stdout",
     "output_type": "stream",
     "text": [
      "['김밥', '라면', '참치김밥', '치즈라면']\n"
     ]
    }
   ],
   "source": [
    "menu = {'김밥':2500, '참치김밥':3500, '라면':3000, '치즈라면':4000}\n",
    "print(sorted(menu.keys()))"
   ]
  },
  {
   "cell_type": "markdown",
   "id": "accc86d8",
   "metadata": {},
   "source": [
    "## sorted() 출력은 결과가 리스트임."
   ]
  },
  {
   "cell_type": "code",
   "execution_count": 10,
   "id": "49596354",
   "metadata": {},
   "outputs": [
    {
     "name": "stdout",
     "output_type": "stream",
     "text": [
      "['치즈라면', '참치김밥', '라면', '김밥']\n"
     ]
    }
   ],
   "source": [
    "menu = {'김밥':2500, '참치김밥':3500, '라면':3000, '치즈라면':4000}\n",
    "print(sorted(menu.keys(), reverse=True))"
   ]
  },
  {
   "cell_type": "code",
   "execution_count": 14,
   "id": "301a00f3",
   "metadata": {},
   "outputs": [
    {
     "name": "stdout",
     "output_type": "stream",
     "text": [
      "['김밥', '라면']\n"
     ]
    }
   ],
   "source": [
    "menu = {'김밥':2500, '참치김밥':3500, '라면':3000, '치즈라면':4000}\n",
    "print(sorted(menu.keys())[:2])"
   ]
  },
  {
   "cell_type": "code",
   "execution_count": 22,
   "id": "7bd836f2",
   "metadata": {},
   "outputs": [
    {
     "name": "stdout",
     "output_type": "stream",
     "text": [
      "[('김밥', 2500), ('라면', 3000), ('참치김밥', 3500), ('치즈라면', 4000)]\n",
      "[('김밥', 2500), ('라면', 3000), ('참치김밥', 3500), ('치즈라면', 4000)]\n"
     ]
    }
   ],
   "source": [
    "import operator\n",
    "\n",
    "menu = {'김밥':2500, '참치김밥':3500, '라면':3000, '치즈라면':4000}\n",
    "print(sorted(menu.items(), key=operator.itemgetter(0)))\n",
    "print(sorted(menu.items(), key=operator.itemgetter(1)))"
   ]
  },
  {
   "cell_type": "markdown",
   "id": "be147757",
   "metadata": {},
   "source": [
    "## key=operator.itemgetter 0과 1 차이"
   ]
  },
  {
   "cell_type": "code",
   "execution_count": null,
   "id": "4dbf308b",
   "metadata": {},
   "outputs": [],
   "source": []
  }
 ],
 "metadata": {
  "kernelspec": {
   "display_name": "Python 3 (ipykernel)",
   "language": "python",
   "name": "python3"
  },
  "language_info": {
   "codemirror_mode": {
    "name": "ipython",
    "version": 3
   },
   "file_extension": ".py",
   "mimetype": "text/x-python",
   "name": "python",
   "nbconvert_exporter": "python",
   "pygments_lexer": "ipython3",
   "version": "3.9.5"
  }
 },
 "nbformat": 4,
 "nbformat_minor": 5
}
