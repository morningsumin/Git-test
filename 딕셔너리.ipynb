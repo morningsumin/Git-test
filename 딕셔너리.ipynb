{
 "cells": [
  {
   "cell_type": "code",
   "execution_count": 1,
   "id": "baa3199b",
   "metadata": {},
   "outputs": [
    {
     "name": "stdout",
     "output_type": "stream",
     "text": [
      "{'break': '깨어지다', 'bring': '가져오다', 'brush': '붓', 'brave': '용감한'}\n"
     ]
    }
   ],
   "source": [
    "eng = {'break':'깨어지다', 'bring':'가져오다', 'brush':'붓', 'brave':'용감한'}\n",
    "print(eng)"
   ]
  },
  {
   "cell_type": "code",
   "execution_count": 2,
   "id": "a149ffe2",
   "metadata": {},
   "outputs": [
    {
     "name": "stdout",
     "output_type": "stream",
     "text": [
      "붓\n",
      "용감한\n"
     ]
    }
   ],
   "source": [
    "eng = {'break':'깨어지다', 'bring':'가져오다', 'brush':'붓', 'brave':'용감한'}\n",
    "print(eng['brush'])\n",
    "print(eng['brave'])"
   ]
  },
  {
   "cell_type": "code",
   "execution_count": 3,
   "id": "a9605b7c",
   "metadata": {},
   "outputs": [
    {
     "name": "stdout",
     "output_type": "stream",
     "text": [
      "어떤 메뉴를 드시겠습니까?김밥\n",
      "2500 원입니다.\n"
     ]
    }
   ],
   "source": [
    "menu = {'김밥':2500, '참치김밥':3500, '라면':3000, '치즈라면':4000}\n",
    "eat = input('어떤 메뉴를 드시겠습니까?')\n",
    "print(menu[eat], '원입니다.')"
   ]
  },
  {
   "cell_type": "code",
   "execution_count": 4,
   "id": "df4cafed",
   "metadata": {},
   "outputs": [
    {
     "name": "stdout",
     "output_type": "stream",
     "text": [
      "{'김밥': 2500, '참치김밥': 3000, '라면': 3000, '치즈라면': 4000}\n"
     ]
    }
   ],
   "source": [
    "menu = {'김밥':2500, '참치김밥':3500, '라면':3000, '치즈라면':4000}\n",
    "menu['참치김밥'] = 3000\n",
    "print(menu)"
   ]
  },
  {
   "cell_type": "code",
   "execution_count": 5,
   "id": "0ba7eec6",
   "metadata": {},
   "outputs": [
    {
     "name": "stdout",
     "output_type": "stream",
     "text": [
      "{'김밥': 3000, '참치김밥': 3000, '라면': 3000, '치즈라면': 4000}\n"
     ]
    }
   ],
   "source": [
    "menu['김밥']+=500\n",
    "print(menu)"
   ]
  },
  {
   "cell_type": "code",
   "execution_count": 6,
   "id": "19c418fb",
   "metadata": {},
   "outputs": [
    {
     "name": "stdout",
     "output_type": "stream",
     "text": [
      "{}\n",
      "{'강아지': 'dog'}\n",
      "{'강아지': 'dog', '고양이': 'cat'}\n"
     ]
    }
   ],
   "source": [
    "eng = {}\n",
    "print(eng)\n",
    "eng['강아지'] = 'dog'\n",
    "print(eng)\n",
    "eng['고양이'] = 'cat'\n",
    "print(eng)"
   ]
  },
  {
   "cell_type": "code",
   "execution_count": 7,
   "id": "02af8e9a",
   "metadata": {},
   "outputs": [
    {
     "name": "stdout",
     "output_type": "stream",
     "text": [
      "분식집의 신메뉴를 모집합니다.\n",
      "추가할 메뉴는?볶음밥\n",
      "메뉴의 가격은?5000\n",
      "{'김밥': 2500, '참치김밥': 3500, '라면': 3000, '치즈라면': 4000, '볶음밥': 5000}\n"
     ]
    }
   ],
   "source": [
    "print('분식집의 신메뉴를 모집합니다.')\n",
    "menu = {'김밥':2500, '참치김밥':3500, '라면':3000, '치즈라면':4000}\n",
    "name = input('추가할 메뉴는?')\n",
    "price = int(input('메뉴의 가격은?'))\n",
    "menu[name] = price\n",
    "print(menu)"
   ]
  },
  {
   "cell_type": "code",
   "execution_count": 1,
   "id": "eb4c6474",
   "metadata": {},
   "outputs": [
    {
     "name": "stdout",
     "output_type": "stream",
     "text": [
      "메뉴의 가격은?볶음밥\n"
     ]
    },
    {
     "ename": "ValueError",
     "evalue": "invalid literal for int() with base 10: '볶음밥'",
     "output_type": "error",
     "traceback": [
      "\u001b[1;31m---------------------------------------------------------------------------\u001b[0m",
      "\u001b[1;31mValueError\u001b[0m                                Traceback (most recent call last)",
      "Input \u001b[1;32mIn [1]\u001b[0m, in \u001b[0;36m<cell line: 2>\u001b[1;34m()\u001b[0m\n\u001b[0;32m      1\u001b[0m menu \u001b[38;5;241m=\u001b[39m {\u001b[38;5;124m'\u001b[39m\u001b[38;5;124m김밥\u001b[39m\u001b[38;5;124m'\u001b[39m:\u001b[38;5;241m2500\u001b[39m, \u001b[38;5;124m'\u001b[39m\u001b[38;5;124m참치김밥\u001b[39m\u001b[38;5;124m'\u001b[39m:\u001b[38;5;241m3500\u001b[39m, \u001b[38;5;124m'\u001b[39m\u001b[38;5;124m라면\u001b[39m\u001b[38;5;124m'\u001b[39m:\u001b[38;5;241m3000\u001b[39m, \u001b[38;5;124m'\u001b[39m\u001b[38;5;124m치즈라면\u001b[39m\u001b[38;5;124m'\u001b[39m:\u001b[38;5;241m4000\u001b[39m}\n\u001b[1;32m----> 2\u001b[0m menu[\u001b[38;5;28minput\u001b[39m(\u001b[38;5;124m'\u001b[39m\u001b[38;5;124m추가할 메뉴는?\u001b[39m\u001b[38;5;124m'\u001b[39m)] \u001b[38;5;241m=\u001b[39m \u001b[38;5;28;43mint\u001b[39;49m\u001b[43m(\u001b[49m\u001b[38;5;28;43minput\u001b[39;49m\u001b[43m(\u001b[49m\u001b[38;5;124;43m'\u001b[39;49m\u001b[38;5;124;43m메뉴의 가격은?\u001b[39;49m\u001b[38;5;124;43m'\u001b[39;49m\u001b[43m)\u001b[49m\u001b[43m)\u001b[49m\n\u001b[0;32m      3\u001b[0m \u001b[38;5;28mprint\u001b[39m(menu)\n",
      "\u001b[1;31mValueError\u001b[0m: invalid literal for int() with base 10: '볶음밥'"
     ]
    }
   ],
   "source": [
    "menu = {'김밥':2500, '참치김밥':3500, '라면':3000, '치즈라면':4000}\n",
    "menu[input('추가할 메뉴는?')] = int(input('메뉴의 가격은?'))\n",
    "print(menu)"
   ]
  },
  {
   "cell_type": "markdown",
   "id": "62b79b53",
   "metadata": {},
   "source": [
    "## 변수를 간추려 넣었을 때"
   ]
  },
  {
   "cell_type": "code",
   "execution_count": 2,
   "id": "5023c4ad",
   "metadata": {},
   "outputs": [
    {
     "name": "stdout",
     "output_type": "stream",
     "text": [
      "{'김밥': 2500, '참치김밥': 3500, '라면': 3000}\n"
     ]
    }
   ],
   "source": [
    "menu = {'김밥':2500, '참치김밥':3500, '라면':3000, '치즈라면':4000}\n",
    "del menu['치즈라면']\n",
    "print(menu)"
   ]
  },
  {
   "cell_type": "code",
   "execution_count": 4,
   "id": "d0d0e8f4",
   "metadata": {},
   "outputs": [
    {
     "name": "stdout",
     "output_type": "stream",
     "text": [
      "dict_keys(['과자', '아이스크림', '휴지', '고기', '우유'])\n",
      "dict_values([1500, 1700, 4800, 10500, 2600])\n"
     ]
    }
   ],
   "source": [
    "mart = {'과자':1500, '아이스크림':1700, '휴지':4800, '고기':10500, '우유':2600}\n",
    "print(mart.keys())\n",
    "print(mart.values())"
   ]
  },
  {
   "cell_type": "code",
   "execution_count": 7,
   "id": "f3828007",
   "metadata": {},
   "outputs": [
    {
     "name": "stdout",
     "output_type": "stream",
     "text": [
      "['과자', '아이스크림', '휴지', '고기', '우유']\n",
      "[1500, 1700, 4800, 10500, 2600]\n"
     ]
    }
   ],
   "source": [
    "mart = {'과자':1500, '아이스크림':1700, '휴지':4800, '고기':10500, '우유':2600}\n",
    "print(list(mart.keys()))\n",
    "print(list(mart.values()))"
   ]
  },
  {
   "cell_type": "code",
   "execution_count": 9,
   "id": "387c6d77",
   "metadata": {},
   "outputs": [
    {
     "name": "stdout",
     "output_type": "stream",
     "text": [
      "dict_items([('과자', 1500), ('아이스크림', 1700), ('휴지', 4800), ('고기', 10500), ('우유', 2600)])\n",
      "['고기', '과자', '아이스크림', '우유', '휴지']\n"
     ]
    }
   ],
   "source": [
    "mart = {'과자':1500, '아이스크림':1700, '휴지':4800, '고기':10500, '우유':2600}\n",
    "print(mart.items())\n",
    "print(sorted(mart.keys()))"
   ]
  },
  {
   "cell_type": "code",
   "execution_count": 11,
   "id": "8027ac22",
   "metadata": {},
   "outputs": [
    {
     "name": "stdout",
     "output_type": "stream",
     "text": [
      "['휴지', '우유', '아이스크림', '과자', '고기']\n",
      "[('고기', 10500), ('과자', 1500), ('아이스크림', 1700), ('우유', 2600), ('휴지', 4800)]\n"
     ]
    }
   ],
   "source": [
    "mart = {'과자':1500, '아이스크림':1700, '휴지':4800, '고기':10500, '우유':2600}\n",
    "print(sorted(mart.keys(), reverse=True))\n",
    "print(sorted(mart.items()))"
   ]
  },
  {
   "cell_type": "code",
   "execution_count": 13,
   "id": "0294e419",
   "metadata": {},
   "outputs": [
    {
     "name": "stdout",
     "output_type": "stream",
     "text": [
      "['고기', '과자', '아이스크림', '우유', '휴지']\n",
      "['고기', '과자']\n"
     ]
    }
   ],
   "source": [
    "mart = {'과자':1500, '아이스크림':1700, '휴지':4800, '고기':10500, '우유':2600}\n",
    "print(sorted(mart.keys()))\n",
    "print(sorted(mart.keys())[:2])"
   ]
  },
  {
   "cell_type": "code",
   "execution_count": 18,
   "id": "63c4b972",
   "metadata": {},
   "outputs": [
    {
     "ename": "TypeError",
     "evalue": "'reverse' is an invalid keyword argument for print()",
     "output_type": "error",
     "traceback": [
      "\u001b[1;31m---------------------------------------------------------------------------\u001b[0m",
      "\u001b[1;31mTypeError\u001b[0m                                 Traceback (most recent call last)",
      "Input \u001b[1;32mIn [18]\u001b[0m, in \u001b[0;36m<cell line: 2>\u001b[1;34m()\u001b[0m\n\u001b[0;32m      1\u001b[0m mart \u001b[38;5;241m=\u001b[39m {\u001b[38;5;124m'\u001b[39m\u001b[38;5;124m과자\u001b[39m\u001b[38;5;124m'\u001b[39m:\u001b[38;5;241m1500\u001b[39m, \u001b[38;5;124m'\u001b[39m\u001b[38;5;124m아이스크림\u001b[39m\u001b[38;5;124m'\u001b[39m:\u001b[38;5;241m1700\u001b[39m, \u001b[38;5;124m'\u001b[39m\u001b[38;5;124m휴지\u001b[39m\u001b[38;5;124m'\u001b[39m:\u001b[38;5;241m4800\u001b[39m, \u001b[38;5;124m'\u001b[39m\u001b[38;5;124m고기\u001b[39m\u001b[38;5;124m'\u001b[39m:\u001b[38;5;241m10500\u001b[39m, \u001b[38;5;124m'\u001b[39m\u001b[38;5;124m우유\u001b[39m\u001b[38;5;124m'\u001b[39m:\u001b[38;5;241m2600\u001b[39m}\n\u001b[1;32m----> 2\u001b[0m \u001b[38;5;28;43mprint\u001b[39;49m\u001b[43m(\u001b[49m\u001b[38;5;28;43msorted\u001b[39;49m\u001b[43m(\u001b[49m\u001b[43mmart\u001b[49m\u001b[38;5;241;43m.\u001b[39;49m\u001b[43mvalues\u001b[49m\u001b[43m(\u001b[49m\u001b[43m)\u001b[49m\u001b[43m)\u001b[49m\u001b[43m[\u001b[49m\u001b[43m:\u001b[49m\u001b[38;5;241;43m3\u001b[39;49m\u001b[43m]\u001b[49m\u001b[43m,\u001b[49m\u001b[43m \u001b[49m\u001b[43mreverse\u001b[49m\u001b[38;5;241;43m=\u001b[39;49m\u001b[38;5;28;43;01mTrue\u001b[39;49;00m\u001b[43m)\u001b[49m\n\u001b[0;32m      3\u001b[0m \u001b[38;5;28mprint\u001b[39m(\u001b[38;5;28msorted\u001b[39m(mart))\n",
      "\u001b[1;31mTypeError\u001b[0m: 'reverse' is an invalid keyword argument for print()"
     ]
    }
   ],
   "source": [
    "mart = {'과자':1500, '아이스크림':1700, '휴지':4800, '고기':10500, '우유':2600}\n",
    "print(sorted(mart.values())[:3], reverse=True)\n",
    "print(sorted(mart))"
   ]
  },
  {
   "cell_type": "markdown",
   "id": "2f659d5a",
   "metadata": {},
   "source": [
    "## reverse값 인식 넣었더니 안되네.."
   ]
  },
  {
   "cell_type": "code",
   "execution_count": 19,
   "id": "ed4ac3d3",
   "metadata": {},
   "outputs": [
    {
     "name": "stdout",
     "output_type": "stream",
     "text": [
      "[('과자', 1500), ('아이스크림', 1700), ('우유', 2600), ('휴지', 4800), ('고기', 10500)]\n"
     ]
    }
   ],
   "source": [
    "import operator\n",
    "\n",
    "mart = {'과자':1500, '아이스크림':1700, '휴지':4800, '고기':10500, '우유':2600}\n",
    "print(sorted(mart.items(), key=operator.itemgetter(1)))"
   ]
  },
  {
   "cell_type": "code",
   "execution_count": 22,
   "id": "11134b57",
   "metadata": {},
   "outputs": [
    {
     "name": "stdout",
     "output_type": "stream",
     "text": [
      "[('고기', 10500), ('휴지', 4800), ('우유', 2600), ('아이스크림', 1700), ('과자', 1500)]\n",
      "[('과자', 1500), ('아이스크림', 1700)]\n"
     ]
    }
   ],
   "source": [
    "import operator\n",
    "\n",
    "mart = {'과자':1500, '아이스크림':1700, '휴지':4800, '고기':10500, '우유':2600}\n",
    "print(sorted(mart.items(), key=operator.itemgetter(1), reverse=True))\n",
    "print(sorted(mart.items(), key=operator.itemgetter(1))[:2])"
   ]
  },
  {
   "cell_type": "code",
   "execution_count": 23,
   "id": "866db654",
   "metadata": {},
   "outputs": [
    {
     "name": "stdout",
     "output_type": "stream",
     "text": [
      "{'고기': 10500, '과자': 1500, '아이스크림': 1700, '우유': 2600, '휴지': 4800}\n"
     ]
    }
   ],
   "source": [
    "mart = {'과자':1500, '아이스크림':1700, '휴지':4800, '고기':10500, '우유':2600}\n",
    "mart = dict(sorted(mart.items()))\n",
    "print(mart)"
   ]
  },
  {
   "cell_type": "code",
   "execution_count": 25,
   "id": "89f7d60a",
   "metadata": {},
   "outputs": [
    {
     "name": "stdout",
     "output_type": "stream",
     "text": [
      "어떤 학생의 점수가 궁금한가요?도윤\n",
      "43 점입니다.\n"
     ]
    }
   ],
   "source": [
    "midterm = {'도윤':43, '하윤':82, '시우':76, '지유':61, '주원':94}\n",
    "student = input('어떤 학생의 점수가 궁금한가요?')\n",
    "if student in midterm.keys():\n",
    "    print(midterm[student],'점입니다.')\n",
    "else:\n",
    "    print('해당 학생이 없습니다.')"
   ]
  },
  {
   "cell_type": "code",
   "execution_count": 26,
   "id": "a9dc4053",
   "metadata": {},
   "outputs": [
    {
     "name": "stdout",
     "output_type": "stream",
     "text": [
      "도윤 하윤 시우 지유 주원 "
     ]
    }
   ],
   "source": [
    "midterm = {'도윤':43, '하윤':82, '시우':76, '지유':61, '주원':94}\n",
    "for k in midterm.keys():\n",
    "    print(k, end=' ')"
   ]
  },
  {
   "cell_type": "code",
   "execution_count": 27,
   "id": "1b82d997",
   "metadata": {},
   "outputs": [
    {
     "name": "stdout",
     "output_type": "stream",
     "text": [
      "도윤 43 하윤 82 시우 76 지유 61 주원 94 "
     ]
    }
   ],
   "source": [
    "midterm = {'도윤':43, '하윤':82, '시우':76, '지유':61, '주원':94}\n",
    "for k,v in midterm.items():\n",
    "    print(k, v, end=' ')"
   ]
  },
  {
   "cell_type": "code",
   "execution_count": 28,
   "id": "75e965ee",
   "metadata": {},
   "outputs": [
    {
     "name": "stdout",
     "output_type": "stream",
     "text": [
      "점수가 70점 이상인 학생의 이름과 점수를 모두 출력합니다.\n",
      "하윤 82 시우 76 주원 94 "
     ]
    }
   ],
   "source": [
    "midterm = {'도윤':43, '하윤':82, '시우':76, '지유':61, '주원':94}\n",
    "print('점수가 70점 이상인 학생의 이름과 점수를 모두 출력합니다.')\n",
    "for k,v in midterm.items():\n",
    "    if v>=70:\n",
    "        print(k,v, end=' ')"
   ]
  },
  {
   "cell_type": "code",
   "execution_count": null,
   "id": "b9055e93",
   "metadata": {},
   "outputs": [],
   "source": [
    "day = {'월요일':'Mon','화요일':'Tue','수요일':'Wed', '목요일':'Thu', '금요일':'Fri'}\n",
    "day = ['토요일']"
   ]
  }
 ],
 "metadata": {
  "kernelspec": {
   "display_name": "Python 3 (ipykernel)",
   "language": "python",
   "name": "python3"
  },
  "language_info": {
   "codemirror_mode": {
    "name": "ipython",
    "version": 3
   },
   "file_extension": ".py",
   "mimetype": "text/x-python",
   "name": "python",
   "nbconvert_exporter": "python",
   "pygments_lexer": "ipython3",
   "version": "3.9.5"
  }
 },
 "nbformat": 4,
 "nbformat_minor": 5
}
